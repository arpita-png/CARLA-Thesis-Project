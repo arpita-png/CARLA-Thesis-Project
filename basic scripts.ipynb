{
 "cells": [
  {
   "cell_type": "markdown",
   "id": "05aa84cd-9059-47db-bcc2-edfd3bb4ad64",
   "metadata": {},
   "source": [
    "Basic scripts to interact with carla simulator\n",
    "import libraries<br>\n",
    "connect to the server<br>\n",
    "get the world<br>\n",
    "get the blueprint library<br>\n",
    "check for all the available vehicle blueprints<br>\n",
    "get specific vehicle blueprint<br>\n",
    "get spawn points<br>\n",
    "spawn the vehicle<br>\n",
    "set the vehicle on autopilot<br>\n",
    "check for all the available sensor blueprints<br>\n",
    "get camera blueprint camera_bp<br>\n",
    "check available attributes in camera_bp<br>\n",
    "set the camera attributes<br>\n",
    "set the camera position<br>\n",
    "spawn the camera<br>\n",
    "check the vehicle class and check if camera is atteached to vehicle <br>\n",
    "spawn multiple vehicles<br>\n",
    "set multiple vehicles on autopilot<br>\n",
    "check all the alive actors in the simulation<br>\n",
    "destroy multiple actors in the simulation<br>\n",
    "filter for particular vehicle names<br>\n",
    "check all the weather available<br>\n",
    "change weather<br>\n",
    "check all available towns<br>\n",
    "change towns<br>\n"
   ]
  },
  {
   "cell_type": "code",
   "execution_count": 2,
   "id": "029ef29a-3662-48ca-a028-db88317fde7a",
   "metadata": {},
   "outputs": [],
   "source": [
    "import carla"
   ]
  },
  {
   "cell_type": "code",
   "execution_count": 3,
   "id": "ff6fb974-c66e-4704-a96a-eebbed4838cf",
   "metadata": {},
   "outputs": [],
   "source": [
    "client = carla.Client('localhost', 2000)\n",
    "client.set_timeout(10.0)"
   ]
  },
  {
   "cell_type": "code",
   "execution_count": 4,
   "id": "e18b465a-5c19-47bc-9c24-ec4f8c85ab23",
   "metadata": {},
   "outputs": [
    {
     "name": "stdout",
     "output_type": "stream",
     "text": [
      "Carla/Maps/Town10HD_Opt\n"
     ]
    }
   ],
   "source": [
    "world = client.get_world()\n",
    "blueprint_library = world.get_blueprint_library()\n",
    "print(world.get_map().name)"
   ]
  },
  {
   "cell_type": "code",
   "execution_count": 8,
   "id": "0084326a-1fd0-43cc-8b10-d73b0a85be99",
   "metadata": {},
   "outputs": [
    {
     "name": "stdout",
     "output_type": "stream",
     "text": [
      "vehicle.audi.a2\n",
      "vehicle.citroen.c3\n",
      "vehicle.chevrolet.impala\n",
      "vehicle.dodge.charger_police_2020\n",
      "vehicle.micro.microlino\n",
      "vehicle.dodge.charger_police\n",
      "vehicle.audi.tt\n",
      "vehicle.jeep.wrangler_rubicon\n",
      "vehicle.mercedes.coupe\n",
      "vehicle.yamaha.yzf\n",
      "vehicle.mercedes.coupe_2020\n",
      "vehicle.harley-davidson.low_rider\n",
      "vehicle.dodge.charger_2020\n",
      "vehicle.ford.ambulance\n",
      "vehicle.lincoln.mkz_2020\n",
      "vehicle.mini.cooper_s_2021\n",
      "vehicle.ford.crown\n",
      "vehicle.toyota.prius\n",
      "vehicle.carlamotors.european_hgv\n",
      "vehicle.carlamotors.carlacola\n",
      "vehicle.vespa.zx125\n",
      "vehicle.nissan.patrol_2021\n",
      "vehicle.mercedes.sprinter\n",
      "vehicle.audi.etron\n",
      "vehicle.seat.leon\n",
      "vehicle.volkswagen.t2_2021\n",
      "vehicle.tesla.cybertruck\n",
      "vehicle.lincoln.mkz_2017\n",
      "vehicle.carlamotors.firetruck\n",
      "vehicle.ford.mustang\n",
      "vehicle.volkswagen.t2\n",
      "vehicle.mitsubishi.fusorosa\n",
      "vehicle.tesla.model3\n",
      "vehicle.diamondback.century\n",
      "vehicle.gazelle.omafiets\n",
      "vehicle.bmw.grandtourer\n",
      "vehicle.bh.crossbike\n",
      "vehicle.kawasaki.ninja\n",
      "vehicle.nissan.patrol\n",
      "vehicle.nissan.micra\n",
      "vehicle.mini.cooper_s\n"
     ]
    }
   ],
   "source": [
    "available_blueprints = blueprint_library.filter('vehicle*')\n",
    "for bp in available_blueprints:\n",
    "    print(bp.id)\n",
    "    "
   ]
  },
  {
   "cell_type": "code",
   "execution_count": 5,
   "id": "2cb516e7-dc7b-4b62-ac82-126e70a35830",
   "metadata": {},
   "outputs": [],
   "source": [
    "spawn_points = world.get_map().get_spawn_points()\n",
    "#spawn_point = spawn_points[0]\n"
   ]
  },
  {
   "cell_type": "code",
   "execution_count": 7,
   "id": "8560505b-996a-4733-a8e4-8f2f4bc39910",
   "metadata": {},
   "outputs": [],
   "source": [
    "vehicle_bp = blueprint_library.find('vehicle.tesla.model3')"
   ]
  },
  {
   "cell_type": "code",
   "execution_count": null,
   "id": "77dc0a64-a619-4624-a07d-8c7e46e50079",
   "metadata": {},
   "outputs": [],
   "source": [
    "vehicle = world.spawn_actor(vehicle_bp, spawn_point)"
   ]
  },
  {
   "cell_type": "code",
   "execution_count": null,
   "id": "b6aae333-d75a-4ea2-a555-9f2deb2cc8ae",
   "metadata": {},
   "outputs": [],
   "source": [
    "vehicle.set_autopilot(False)"
   ]
  },
  {
   "cell_type": "code",
   "execution_count": null,
   "id": "ed84e827-4631-4921-a521-c95a30fc42ae",
   "metadata": {},
   "outputs": [],
   "source": [
    "vehicle.destroy()"
   ]
  },
  {
   "cell_type": "code",
   "execution_count": 25,
   "id": "4951a367-5676-481e-b2d8-e04c3c38e928",
   "metadata": {},
   "outputs": [
    {
     "name": "stdout",
     "output_type": "stream",
     "text": [
      "sensor.other.lane_invasion\n",
      "sensor.other.collision\n",
      "sensor.camera.depth\n",
      "sensor.lidar.ray_cast\n",
      "sensor.camera.semantic_segmentation\n",
      "sensor.other.radar\n",
      "sensor.camera.instance_segmentation\n",
      "sensor.camera.rgb\n",
      "sensor.other.rss\n",
      "sensor.camera.optical_flow\n",
      "sensor.lidar.ray_cast_semantic\n",
      "sensor.other.obstacle\n",
      "sensor.other.imu\n",
      "sensor.other.gnss\n",
      "sensor.camera.dvs\n",
      "sensor.camera.normals\n"
     ]
    }
   ],
   "source": [
    "available_sensors = blueprint_library.filter('sensor*')\n",
    "for BP in available_sensors:\n",
    "    print(BP.id)"
   ]
  },
  {
   "cell_type": "code",
   "execution_count": 26,
   "id": "294a1e9b-99dd-453b-8316-ba66b8e86e80",
   "metadata": {},
   "outputs": [],
   "source": [
    "camera_bp = blueprint_library.find('sensor.camera.rgb')"
   ]
  },
  {
   "cell_type": "code",
   "execution_count": 27,
   "id": "6cebd495-e2ae-419c-995d-b979aee3b533",
   "metadata": {},
   "outputs": [
    {
     "name": "stdout",
     "output_type": "stream",
     "text": [
      "chromatic_aberration_intensity: type =Float, recommended_vals = ['0.0']\n",
      "tint: type =Float, recommended_vals = ['0.0']\n",
      "shoulder: type =Float, recommended_vals = ['0.26']\n",
      "toe: type =Float, recommended_vals = ['0.55']\n",
      "white_clip: type =Float, recommended_vals = ['0.04']\n",
      "slope: type =Float, recommended_vals = ['0.88']\n",
      "blur_radius: type =Float, recommended_vals = ['0.0']\n",
      "blur_amount: type =Float, recommended_vals = ['1.0']\n",
      "blade_count: type =Int, recommended_vals = ['5']\n",
      "exposure_speed_down: type =Float, recommended_vals = ['1.0']\n",
      "min_fstop: type =Float, recommended_vals = ['1.2']\n",
      "exposure_speed_up: type =Float, recommended_vals = ['3.0']\n",
      "exposure_max_bright: type =Float, recommended_vals = ['12.0']\n",
      "motion_blur_min_object_screen_size: type =Float, recommended_vals = ['0.1']\n",
      "bloom_intensity: type =Float, recommended_vals = ['0.675']\n",
      "lens_flare_intensity: type =Float, recommended_vals = ['0.1']\n",
      "black_clip: type =Float, recommended_vals = ['0.0']\n",
      "motion_blur_max_distortion: type =Float, recommended_vals = ['0.35']\n",
      "focal_distance: type =Float, recommended_vals = ['1000.0']\n",
      "motion_blur_intensity: type =Float, recommended_vals = ['0.45']\n",
      "temp: type =Float, recommended_vals = ['6500.0']\n",
      "gamma: type =Float, recommended_vals = ['2.2']\n",
      "enable_postprocess_effects: type =Bool, recommended_vals = ['true']\n",
      "iso: type =Float, recommended_vals = ['100.0']\n",
      "shutter_speed: type =Float, recommended_vals = ['200.0']\n",
      "exposure_compensation: type =Float, recommended_vals = ['0.0']\n",
      "exposure_mode: type =String, recommended_vals = ['histogram', 'manual']\n",
      "calibration_constant: type =Float, recommended_vals = ['16.0']\n",
      "lens_y_size: type =Float, recommended_vals = ['0.08']\n",
      "lens_x_size: type =Float, recommended_vals = ['0.08']\n",
      "lens_kcube: type =Float, recommended_vals = ['0.0']\n",
      "lens_k: type =Float, recommended_vals = ['-1.0']\n",
      "lens_circle_multiplier: type =Float, recommended_vals = ['0.0']\n",
      "fstop: type =Float, recommended_vals = ['1.4']\n",
      "fov: type =Float, recommended_vals = ['90.0']\n",
      "image_size_y: type =Int, recommended_vals = ['600']\n",
      "chromatic_aberration_offset: type =Float, recommended_vals = ['0.0']\n",
      "lens_circle_falloff: type =Float, recommended_vals = ['5.0']\n",
      "image_size_x: type =Int, recommended_vals = ['800']\n",
      "sensor_tick: type =Float, recommended_vals = ['0.0']\n",
      "ros_name: type =String, recommended_vals = ['sensor.camera.rgb']\n",
      "exposure_min_bright: type =Float, recommended_vals = ['10.0']\n",
      "role_name: type =String, recommended_vals = ['front', 'back', 'left', 'right', 'front_left', 'front_right', 'back_left', 'back_right']\n"
     ]
    }
   ],
   "source": [
    "for attributes in camera_bp:\n",
    "    print(f'{attributes.id}: type ={attributes.type}, recommended_vals = {attributes.recommended_values}')"
   ]
  },
  {
   "cell_type": "code",
   "execution_count": 28,
   "id": "b3271aa5-b1f9-4605-b524-0d0c86dbae6d",
   "metadata": {},
   "outputs": [],
   "source": [
    "camera_bp.set_attribute('image_size_x', '800')\n",
    "camera_bp.set_attribute('image_size_y', '600')\n",
    "camera_bp.set_attribute('fov', '90')"
   ]
  },
  {
   "cell_type": "code",
   "execution_count": 29,
   "id": "44f08cf3-2800-4b55-a317-2d36f3d8dfcc",
   "metadata": {},
   "outputs": [],
   "source": [
    "camera_position = carla.Transform(carla.Location(x= 2.5, y=0, z=5))\n"
   ]
  },
  {
   "cell_type": "code",
   "execution_count": 30,
   "id": "a69bb9a9-b734-4af1-a61a-76beb4e27f30",
   "metadata": {},
   "outputs": [],
   "source": [
    "camera= world.spawn_actor(camera_bp, camera_position, attach_to = vehicle)"
   ]
  },
  {
   "cell_type": "code",
   "execution_count": 31,
   "id": "032a0508-b148-42bb-8ce5-d21ea202c1fd",
   "metadata": {},
   "outputs": [
    {
     "name": "stdout",
     "output_type": "stream",
     "text": [
      "Actor(id=26, type=vehicle.tesla.model3)\n"
     ]
    }
   ],
   "source": [
    "print(camera.parent)"
   ]
  },
  {
   "cell_type": "code",
   "execution_count": 32,
   "id": "b087ea3c-b274-4c34-8312-44bf8e9f958d",
   "metadata": {},
   "outputs": [
    {
     "name": "stdout",
     "output_type": "stream",
     "text": [
      "<class 'carla.libcarla.Vehicle'>\n"
     ]
    }
   ],
   "source": [
    "print(type(vehicle))"
   ]
  },
  {
   "cell_type": "code",
   "execution_count": 8,
   "id": "9e43eb48-e21e-4367-a9fd-182186fd9e16",
   "metadata": {},
   "outputs": [],
   "source": [
    "vehicles =[]\n",
    "for i in range(4):\n",
    "    spawn_point = spawn_points[i]\n",
    "    vehicle = world.spawn_actor(vehicle_bp, spawn_point)\n",
    "    if vehicle:\n",
    "        vehicles.append(vehicle)\n",
    "    else:\n",
    "        print('spawn failed')"
   ]
  },
  {
   "cell_type": "code",
   "execution_count": 9,
   "id": "be260006-46c4-489a-820b-ece4a94f39c7",
   "metadata": {},
   "outputs": [],
   "source": [
    "for pilot in vehicles:\n",
    "    pilot.set_autopilot(True)"
   ]
  },
  {
   "cell_type": "code",
   "execution_count": 13,
   "id": "852e3ee8-7c7c-4100-8c71-98cba89cf11d",
   "metadata": {},
   "outputs": [
    {
     "name": "stdout",
     "output_type": "stream",
     "text": [
      "traffic.traffic_light\n",
      "traffic.traffic_light\n",
      "traffic.traffic_light\n",
      "traffic.traffic_light\n",
      "traffic.traffic_light\n",
      "traffic.traffic_light\n",
      "traffic.traffic_light\n",
      "traffic.traffic_light\n",
      "traffic.traffic_light\n",
      "traffic.traffic_light\n",
      "traffic.traffic_light\n",
      "traffic.traffic_light\n",
      "traffic.traffic_light\n",
      "traffic.traffic_light\n",
      "traffic.traffic_light\n",
      "traffic.unknown\n",
      "traffic.unknown\n",
      "traffic.unknown\n",
      "traffic.yield\n",
      "traffic.stop\n",
      "traffic.stop\n",
      "traffic.stop\n",
      "spectator\n"
     ]
    }
   ],
   "source": [
    "all_actors = world.get_actors()\n",
    "for actor in all_actors:\n",
    "    print(actor.type_id)"
   ]
  },
  {
   "cell_type": "code",
   "execution_count": 11,
   "id": "ef0c3a52-4743-4963-8125-a3c81650a92f",
   "metadata": {},
   "outputs": [],
   "source": [
    "for k in all_actors:\n",
    "    k.destroy()"
   ]
  },
  {
   "cell_type": "code",
   "execution_count": 12,
   "id": "79ee1333-2a2d-4495-9d26-c2cd0e1d3881",
   "metadata": {},
   "outputs": [],
   "source": [
    "for actors in all_actors:\n",
    "    if actors.type_id.startswith('vehicle.') or actors.type_id.startswith('sensor.'):\n",
    "        actors.destroy()"
   ]
  },
  {
   "cell_type": "code",
   "execution_count": 11,
   "id": "c95c062f-a538-442e-9d93-473292669d5a",
   "metadata": {},
   "outputs": [
    {
     "name": "stdout",
     "output_type": "stream",
     "text": [
      "vehicle.tesla.cybertruck\n",
      "vehicle.tesla.model3\n"
     ]
    }
   ],
   "source": [
    "tesla = blueprint_library.filter('*tesla*')\n",
    "for veh in tesla:\n",
    "    print(veh.id)\n"
   ]
  },
  {
   "cell_type": "code",
   "execution_count": 12,
   "id": "4d46a2ef-d698-4018-b858-2d105e5d8df2",
   "metadata": {},
   "outputs": [
    {
     "name": "stdout",
     "output_type": "stream",
     "text": [
      "Help on class WeatherParameters in module carla.libcarla:\n",
      "\n",
      "class WeatherParameters(Boost.Python.instance)\n",
      " |  Method resolution order:\n",
      " |      WeatherParameters\n",
      " |      Boost.Python.instance\n",
      " |      builtins.object\n",
      " |  \n",
      " |  Static methods defined here:\n",
      " |  \n",
      " |  __eq__(...)\n",
      " |      __eq__( (WeatherParameters)arg1, (WeatherParameters)arg2) -> bool :\n",
      " |      \n",
      " |          C++ signature :\n",
      " |              bool __eq__(carla::rpc::WeatherParameters {lvalue},carla::rpc::WeatherParameters)\n",
      " |  \n",
      " |  __init__(...)\n",
      " |      __init__( (object)arg1) -> None :\n",
      " |      \n",
      " |          C++ signature :\n",
      " |              void __init__(_object*)\n",
      " |      \n",
      " |      __init__( (object)arg1 [, (float)cloudiness=0.0 [, (float)precipitation=0.0 [, (float)precipitation_deposits=0.0 [, (float)wind_intensity=0.0 [, (float)sun_azimuth_angle=0.0 [, (float)sun_altitude_angle=0.0 [, (float)fog_density=0.0 [, (float)fog_distance=0.0 [, (float)fog_falloff=0.0 [, (float)wetness=0.0 [, (float)scattering_intensity=0.0 [, (float)mie_scattering_scale=0.0 [, (float)rayleigh_scattering_scale=0.03310000151395798 [, (float)dust_storm=0.0]]]]]]]]]]]]]]) -> None :\n",
      " |      \n",
      " |          C++ signature :\n",
      " |              void __init__(_object* [,float=0.0 [,float=0.0 [,float=0.0 [,float=0.0 [,float=0.0 [,float=0.0 [,float=0.0 [,float=0.0 [,float=0.0 [,float=0.0 [,float=0.0 [,float=0.0 [,float=0.03310000151395798 [,float=0.0]]]]]]]]]]]]]])\n",
      " |  \n",
      " |  __ne__(...)\n",
      " |      __ne__( (WeatherParameters)arg1, (WeatherParameters)arg2) -> bool :\n",
      " |      \n",
      " |          C++ signature :\n",
      " |              bool __ne__(carla::rpc::WeatherParameters {lvalue},carla::rpc::WeatherParameters)\n",
      " |  \n",
      " |  __reduce__ = <unnamed Boost.Python function>(...)\n",
      " |  \n",
      " |  __str__(...)\n",
      " |      __str__( (WeatherParameters)arg1) -> object :\n",
      " |      \n",
      " |          C++ signature :\n",
      " |              _object* __str__(carla::rpc::WeatherParameters {lvalue})\n",
      " |  \n",
      " |  ----------------------------------------------------------------------\n",
      " |  Data descriptors defined here:\n",
      " |  \n",
      " |  cloudiness\n",
      " |  \n",
      " |  dust_storm\n",
      " |  \n",
      " |  fog_density\n",
      " |  \n",
      " |  fog_distance\n",
      " |  \n",
      " |  fog_falloff\n",
      " |  \n",
      " |  mie_scattering_scale\n",
      " |  \n",
      " |  precipitation\n",
      " |  \n",
      " |  precipitation_deposits\n",
      " |  \n",
      " |  rayleigh_scattering_scale\n",
      " |  \n",
      " |  scattering_intensity\n",
      " |  \n",
      " |  sun_altitude_angle\n",
      " |  \n",
      " |  sun_azimuth_angle\n",
      " |  \n",
      " |  wetness\n",
      " |  \n",
      " |  wind_intensity\n",
      " |  \n",
      " |  ----------------------------------------------------------------------\n",
      " |  Data and other attributes defined here:\n",
      " |  \n",
      " |  ClearNight = <carla.libcarla.WeatherParameters object>\n",
      " |  \n",
      " |  ClearNoon = <carla.libcarla.WeatherParameters object>\n",
      " |  \n",
      " |  ClearSunset = <carla.libcarla.WeatherParameters object>\n",
      " |  \n",
      " |  CloudyNight = <carla.libcarla.WeatherParameters object>\n",
      " |  \n",
      " |  CloudyNoon = <carla.libcarla.WeatherParameters object>\n",
      " |  \n",
      " |  CloudySunset = <carla.libcarla.WeatherParameters object>\n",
      " |  \n",
      " |  Default = <carla.libcarla.WeatherParameters object>\n",
      " |  \n",
      " |  DustStorm = <carla.libcarla.WeatherParameters object>\n",
      " |  \n",
      " |  HardRainNight = <carla.libcarla.WeatherParameters object>\n",
      " |  \n",
      " |  HardRainNoon = <carla.libcarla.WeatherParameters object>\n",
      " |  \n",
      " |  HardRainSunset = <carla.libcarla.WeatherParameters object>\n",
      " |  \n",
      " |  MidRainSunset = <carla.libcarla.WeatherParameters object>\n",
      " |  \n",
      " |  MidRainyNight = <carla.libcarla.WeatherParameters object>\n",
      " |  \n",
      " |  MidRainyNoon = <carla.libcarla.WeatherParameters object>\n",
      " |  \n",
      " |  SoftRainNight = <carla.libcarla.WeatherParameters object>\n",
      " |  \n",
      " |  SoftRainNoon = <carla.libcarla.WeatherParameters object>\n",
      " |  \n",
      " |  SoftRainSunset = <carla.libcarla.WeatherParameters object>\n",
      " |  \n",
      " |  WetCloudyNight = <carla.libcarla.WeatherParameters object>\n",
      " |  \n",
      " |  WetCloudyNoon = <carla.libcarla.WeatherParameters object>\n",
      " |  \n",
      " |  WetCloudySunset = <carla.libcarla.WeatherParameters object>\n",
      " |  \n",
      " |  WetNight = <carla.libcarla.WeatherParameters object>\n",
      " |  \n",
      " |  WetNoon = <carla.libcarla.WeatherParameters object>\n",
      " |  \n",
      " |  WetSunset = <carla.libcarla.WeatherParameters object>\n",
      " |  \n",
      " |  __instance_size__ = 80\n",
      " |  \n",
      " |  ----------------------------------------------------------------------\n",
      " |  Static methods inherited from Boost.Python.instance:\n",
      " |  \n",
      " |  __new__(*args, **kwargs) from Boost.Python.class\n",
      " |      Create and return a new object.  See help(type) for accurate signature.\n",
      " |  \n",
      " |  ----------------------------------------------------------------------\n",
      " |  Data descriptors inherited from Boost.Python.instance:\n",
      " |  \n",
      " |  __dict__\n",
      " |  \n",
      " |  __weakref__\n",
      "\n"
     ]
    }
   ],
   "source": [
    "help(carla.WeatherParameters)"
   ]
  },
  {
   "cell_type": "code",
   "execution_count": 15,
   "id": "1f59479e-c6e3-4a96-9bd8-cb899ed985e9",
   "metadata": {},
   "outputs": [
    {
     "name": "stdout",
     "output_type": "stream",
     "text": [
      "ClearNight\n",
      "ClearNoon\n",
      "ClearSunset\n",
      "CloudyNight\n",
      "CloudyNoon\n",
      "CloudySunset\n",
      "Default\n",
      "DustStorm\n",
      "HardRainNight\n",
      "HardRainNoon\n",
      "HardRainSunset\n",
      "MidRainSunset\n",
      "MidRainyNight\n",
      "MidRainyNoon\n",
      "SoftRainNight\n",
      "SoftRainNoon\n",
      "SoftRainSunset\n",
      "WetCloudyNight\n",
      "WetCloudyNoon\n",
      "WetCloudySunset\n",
      "WetNight\n",
      "WetNoon\n",
      "WetSunset\n",
      "cloudiness\n",
      "dust_storm\n",
      "fog_density\n",
      "fog_distance\n",
      "fog_falloff\n",
      "mie_scattering_scale\n",
      "precipitation\n",
      "precipitation_deposits\n",
      "rayleigh_scattering_scale\n",
      "scattering_intensity\n",
      "sun_altitude_angle\n",
      "sun_azimuth_angle\n",
      "wetness\n",
      "wind_intensity\n"
     ]
    }
   ],
   "source": [
    "for preset in dir(carla.WeatherParameters):\n",
    "    if not preset.startswith('_'):\n",
    "        print(preset)"
   ]
  },
  {
   "cell_type": "code",
   "execution_count": 20,
   "id": "e1548cd4-e72d-4c70-bce1-625210b2faa3",
   "metadata": {},
   "outputs": [
    {
     "name": "stdout",
     "output_type": "stream",
     "text": [
      "weather set to DustStorm\n"
     ]
    }
   ],
   "source": [
    "# change the weather\n",
    "weather = carla.WeatherParameters.DustStorm\n",
    "world.set_weather(weather)\n",
    "print('weather set to DustStorm')"
   ]
  },
  {
   "cell_type": "code",
   "execution_count": 17,
   "id": "dd47ec6a-4b19-4dcc-9bc7-de87bf641902",
   "metadata": {},
   "outputs": [
    {
     "name": "stdout",
     "output_type": "stream",
     "text": [
      "Available maps:\n",
      "/Game/Carla/Maps/Town01\n",
      "/Game/Carla/Maps/Town03_Opt\n",
      "/Game/Carla/Maps/Town10HD_Opt\n",
      "/Game/Carla/Maps/Town10HD\n",
      "/Game/Carla/Maps/Town04_Opt\n",
      "/Game/Carla/Maps/Town04\n",
      "/Game/Carla/Maps/Town02\n",
      "/Game/Carla/Maps/Town07\n",
      "/Game/Carla/Maps/Town06\n",
      "/Game/Carla/Maps/Town05\n",
      "/Game/Carla/Maps/Town03\n",
      "/Game/Carla/Maps/Town05_Opt\n",
      "/Game/Carla/Maps/Town02_Opt\n",
      "/Game/Carla/Maps/Town01_Opt\n",
      "/Game/Carla/Maps/Town13/Town13\n",
      "/Game/Carla/Maps/Town15/Town15\n",
      "/Game/Carla/Maps/Town11/Town11\n",
      "/Game/Carla/Maps/Town12/Town12\n"
     ]
    }
   ],
   "source": [
    "available_maps = client.get_available_maps()\n",
    "print(\"Available maps:\")\n",
    "for map in available_maps:\n",
    "    print(map)"
   ]
  },
  {
   "cell_type": "code",
   "execution_count": 19,
   "id": "8b291e97-c013-45f5-a2b4-799d4f77b204",
   "metadata": {},
   "outputs": [
    {
     "name": "stdout",
     "output_type": "stream",
     "text": [
      "map sucessfully changed to town05_Opt\n"
     ]
    }
   ],
   "source": [
    "# change map\n",
    "client.load_world('/Game/Carla/Maps/Town05_Opt')\n",
    "print('map sucessfully changed to town05_Opt')"
   ]
  },
  {
   "cell_type": "code",
   "execution_count": null,
   "id": "dc9073f4-26c3-4fe9-82f8-eda5b65d53b8",
   "metadata": {},
   "outputs": [],
   "source": []
  }
 ],
 "metadata": {
  "kernelspec": {
   "display_name": "CARLA (new_env)",
   "language": "python",
   "name": "carla_jupyter_env"
  },
  "language_info": {
   "codemirror_mode": {
    "name": "ipython",
    "version": 3
   },
   "file_extension": ".py",
   "mimetype": "text/x-python",
   "name": "python",
   "nbconvert_exporter": "python",
   "pygments_lexer": "ipython3",
   "version": "3.10.12"
  }
 },
 "nbformat": 4,
 "nbformat_minor": 5
}
